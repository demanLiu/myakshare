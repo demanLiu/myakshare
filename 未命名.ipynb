{
 "cells": [
  {
   "cell_type": "code",
   "execution_count": 2,
   "id": "8538886c",
   "metadata": {},
   "outputs": [
    {
     "name": "stdout",
     "output_type": "stream",
     "text": [
      "6\n"
     ]
    }
   ],
   "source": [
    "import calendar\n",
    "import datetime\n",
    "from datetime import timedelta ,datetime\n",
    "startDate = datetime.strptime(\"20220723\", \"%Y%m%d\")\n",
    "\n",
    "date = startDate + timedelta(days=1)\n",
    "year= date.year\n",
    "month = date.month\n",
    "day = date.day\n",
    "\n",
    "#系统默认：星期一作为一周的第一天（即：0），星期日作为一周的最后一天（即：6）\n",
    "print(calendar.weekday(year,month,day))\n",
    "currentday =calendar.weekday(year,month,day)\n"
   ]
  },
  {
   "cell_type": "code",
   "execution_count": 4,
   "id": "9dec5888",
   "metadata": {},
   "outputs": [
    {
     "ename": "ValueError",
     "evalue": "Length mismatch: Expected axis has 4 elements, new values have 7 elements",
     "output_type": "error",
     "traceback": [
      "\u001b[0;31m---------------------------------------------------------------------------\u001b[0m",
      "\u001b[0;31mValueError\u001b[0m                                Traceback (most recent call last)",
      "\u001b[1;32m/home/liuhuan/WorkSpace/money/akshare/未命名.ipynb Cell 2'\u001b[0m in \u001b[0;36m<cell line: 3>\u001b[0;34m()\u001b[0m\n\u001b[1;32m      <a href='vscode-notebook-cell:/home/liuhuan/WorkSpace/money/akshare/%E6%9C%AA%E5%91%BD%E5%90%8D.ipynb#ch0000001?line=0'>1</a>\u001b[0m \u001b[39mimport\u001b[39;00m \u001b[39makshare\u001b[39;00m \u001b[39mas\u001b[39;00m \u001b[39mak\u001b[39;00m\n\u001b[0;32m----> <a href='vscode-notebook-cell:/home/liuhuan/WorkSpace/money/akshare/%E6%9C%AA%E5%91%BD%E5%90%8D.ipynb#ch0000001?line=2'>3</a>\u001b[0m stock_sse_deal_daily_df \u001b[39m=\u001b[39m ak\u001b[39m.\u001b[39;49mstock_sse_deal_daily(date\u001b[39m=\u001b[39;49m\u001b[39m\"\u001b[39;49m\u001b[39m20080722\u001b[39;49m\u001b[39m\"\u001b[39;49m)\n\u001b[1;32m      <a href='vscode-notebook-cell:/home/liuhuan/WorkSpace/money/akshare/%E6%9C%AA%E5%91%BD%E5%90%8D.ipynb#ch0000001?line=3'>4</a>\u001b[0m \u001b[39mprint\u001b[39m(stock_sse_deal_daily_df)\n",
      "File \u001b[0;32m~/.local/lib/python3.10/site-packages/akshare/stock/stock_summary.py:212\u001b[0m, in \u001b[0;36mstock_sse_deal_daily\u001b[0;34m(date)\u001b[0m\n\u001b[1;32m    210\u001b[0m temp_df \u001b[39m=\u001b[39m temp_df\u001b[39m.\u001b[39mT\n\u001b[1;32m    211\u001b[0m temp_df\u001b[39m.\u001b[39mreset_index(inplace\u001b[39m=\u001b[39m\u001b[39mTrue\u001b[39;00m)\n\u001b[0;32m--> 212\u001b[0m temp_df\u001b[39m.\u001b[39mcolumns \u001b[39m=\u001b[39m [\n\u001b[1;32m    213\u001b[0m     \u001b[39m\"\u001b[39m\u001b[39m单日情况\u001b[39m\u001b[39m\"\u001b[39m,\n\u001b[1;32m    214\u001b[0m     \u001b[39m\"\u001b[39m\u001b[39m主板A\u001b[39m\u001b[39m\"\u001b[39m,\n\u001b[1;32m    215\u001b[0m     \u001b[39m\"\u001b[39m\u001b[39m股票\u001b[39m\u001b[39m\"\u001b[39m,\n\u001b[1;32m    216\u001b[0m     \u001b[39m\"\u001b[39m\u001b[39m主板B\u001b[39m\u001b[39m\"\u001b[39m,\n\u001b[1;32m    217\u001b[0m     \u001b[39m\"\u001b[39m\u001b[39m_\u001b[39m\u001b[39m\"\u001b[39m,\n\u001b[1;32m    218\u001b[0m     \u001b[39m\"\u001b[39m\u001b[39m股票回购\u001b[39m\u001b[39m\"\u001b[39m,\n\u001b[1;32m    219\u001b[0m     \u001b[39m\"\u001b[39m\u001b[39m科创板\u001b[39m\u001b[39m\"\u001b[39m,\n\u001b[1;32m    220\u001b[0m ]\n\u001b[1;32m    221\u001b[0m temp_df \u001b[39m=\u001b[39m temp_df[\n\u001b[1;32m    222\u001b[0m     [\n\u001b[1;32m    223\u001b[0m         \u001b[39m\"\u001b[39m\u001b[39m单日情况\u001b[39m\u001b[39m\"\u001b[39m,\n\u001b[0;32m   (...)\u001b[0m\n\u001b[1;32m    229\u001b[0m     ]\n\u001b[1;32m    230\u001b[0m ]\n\u001b[1;32m    231\u001b[0m temp_df[\u001b[39m\"\u001b[39m\u001b[39m单日情况\u001b[39m\u001b[39m\"\u001b[39m] \u001b[39m=\u001b[39m [\n\u001b[1;32m    232\u001b[0m     \u001b[39m\"\u001b[39m\u001b[39m流通市值\u001b[39m\u001b[39m\"\u001b[39m,\n\u001b[1;32m    233\u001b[0m     \u001b[39m\"\u001b[39m\u001b[39m流通换手率\u001b[39m\u001b[39m\"\u001b[39m,\n\u001b[0;32m   (...)\u001b[0m\n\u001b[1;32m    251\u001b[0m     \u001b[39m\"\u001b[39m\u001b[39m_\u001b[39m\u001b[39m\"\u001b[39m,\n\u001b[1;32m    252\u001b[0m ]\n",
      "File \u001b[0;32m~/.local/lib/python3.10/site-packages/pandas/core/generic.py:5588\u001b[0m, in \u001b[0;36mNDFrame.__setattr__\u001b[0;34m(self, name, value)\u001b[0m\n\u001b[1;32m   5586\u001b[0m \u001b[39mtry\u001b[39;00m:\n\u001b[1;32m   5587\u001b[0m     \u001b[39mobject\u001b[39m\u001b[39m.\u001b[39m\u001b[39m__getattribute__\u001b[39m(\u001b[39mself\u001b[39m, name)\n\u001b[0;32m-> 5588\u001b[0m     \u001b[39mreturn\u001b[39;00m \u001b[39mobject\u001b[39;49m\u001b[39m.\u001b[39;49m\u001b[39m__setattr__\u001b[39;49m(\u001b[39mself\u001b[39;49m, name, value)\n\u001b[1;32m   5589\u001b[0m \u001b[39mexcept\u001b[39;00m \u001b[39mAttributeError\u001b[39;00m:\n\u001b[1;32m   5590\u001b[0m     \u001b[39mpass\u001b[39;00m\n",
      "File \u001b[0;32m~/.local/lib/python3.10/site-packages/pandas/_libs/properties.pyx:70\u001b[0m, in \u001b[0;36mpandas._libs.properties.AxisProperty.__set__\u001b[0;34m()\u001b[0m\n",
      "File \u001b[0;32m~/.local/lib/python3.10/site-packages/pandas/core/generic.py:769\u001b[0m, in \u001b[0;36mNDFrame._set_axis\u001b[0;34m(self, axis, labels)\u001b[0m\n\u001b[1;32m    767\u001b[0m \u001b[39mdef\u001b[39;00m \u001b[39m_set_axis\u001b[39m(\u001b[39mself\u001b[39m, axis: \u001b[39mint\u001b[39m, labels: Index) \u001b[39m-\u001b[39m\u001b[39m>\u001b[39m \u001b[39mNone\u001b[39;00m:\n\u001b[1;32m    768\u001b[0m     labels \u001b[39m=\u001b[39m ensure_index(labels)\n\u001b[0;32m--> 769\u001b[0m     \u001b[39mself\u001b[39;49m\u001b[39m.\u001b[39;49m_mgr\u001b[39m.\u001b[39;49mset_axis(axis, labels)\n\u001b[1;32m    770\u001b[0m     \u001b[39mself\u001b[39m\u001b[39m.\u001b[39m_clear_item_cache()\n",
      "File \u001b[0;32m~/.local/lib/python3.10/site-packages/pandas/core/internals/managers.py:214\u001b[0m, in \u001b[0;36mBaseBlockManager.set_axis\u001b[0;34m(self, axis, new_labels)\u001b[0m\n\u001b[1;32m    212\u001b[0m \u001b[39mdef\u001b[39;00m \u001b[39mset_axis\u001b[39m(\u001b[39mself\u001b[39m, axis: \u001b[39mint\u001b[39m, new_labels: Index) \u001b[39m-\u001b[39m\u001b[39m>\u001b[39m \u001b[39mNone\u001b[39;00m:\n\u001b[1;32m    213\u001b[0m     \u001b[39m# Caller is responsible for ensuring we have an Index object.\u001b[39;00m\n\u001b[0;32m--> 214\u001b[0m     \u001b[39mself\u001b[39;49m\u001b[39m.\u001b[39;49m_validate_set_axis(axis, new_labels)\n\u001b[1;32m    215\u001b[0m     \u001b[39mself\u001b[39m\u001b[39m.\u001b[39maxes[axis] \u001b[39m=\u001b[39m new_labels\n",
      "File \u001b[0;32m~/.local/lib/python3.10/site-packages/pandas/core/internals/base.py:69\u001b[0m, in \u001b[0;36mDataManager._validate_set_axis\u001b[0;34m(self, axis, new_labels)\u001b[0m\n\u001b[1;32m     66\u001b[0m     \u001b[39mpass\u001b[39;00m\n\u001b[1;32m     68\u001b[0m \u001b[39melif\u001b[39;00m new_len \u001b[39m!=\u001b[39m old_len:\n\u001b[0;32m---> 69\u001b[0m     \u001b[39mraise\u001b[39;00m \u001b[39mValueError\u001b[39;00m(\n\u001b[1;32m     70\u001b[0m         \u001b[39mf\u001b[39m\u001b[39m\"\u001b[39m\u001b[39mLength mismatch: Expected axis has \u001b[39m\u001b[39m{\u001b[39;00mold_len\u001b[39m}\u001b[39;00m\u001b[39m elements, new \u001b[39m\u001b[39m\"\u001b[39m\n\u001b[1;32m     71\u001b[0m         \u001b[39mf\u001b[39m\u001b[39m\"\u001b[39m\u001b[39mvalues have \u001b[39m\u001b[39m{\u001b[39;00mnew_len\u001b[39m}\u001b[39;00m\u001b[39m elements\u001b[39m\u001b[39m\"\u001b[39m\n\u001b[1;32m     72\u001b[0m     )\n",
      "\u001b[0;31mValueError\u001b[0m: Length mismatch: Expected axis has 4 elements, new values have 7 elements"
     ]
    }
   ],
   "source": [
    "import akshare as ak\n",
    "\n",
    "stock_sse_deal_daily_df = ak.stock_sse_deal_daily(date=\"20080723\")\n",
    "print(stock_sse_deal_daily_df)"
   ]
  },
  {
   "cell_type": "code",
   "execution_count": null,
   "id": "afa0fcb1",
   "metadata": {},
   "outputs": [],
   "source": []
  },
  {
   "cell_type": "code",
   "execution_count": null,
   "id": "21710517",
   "metadata": {},
   "outputs": [],
   "source": [
    "run erfpipe.py\n"
   ]
  }
 ],
 "metadata": {
  "kernelspec": {
   "display_name": "Python 3.10.5 64-bit",
   "language": "python",
   "name": "python3"
  },
  "language_info": {
   "codemirror_mode": {
    "name": "ipython",
    "version": 3
   },
   "file_extension": ".py",
   "mimetype": "text/x-python",
   "name": "python",
   "nbconvert_exporter": "python",
   "pygments_lexer": "ipython3",
   "version": "3.10.5"
  },
  "vscode": {
   "interpreter": {
    "hash": "e7370f93d1d0cde622a1f8e1c04877d8463912d04d973331ad4851f04de6915a"
   }
  }
 },
 "nbformat": 4,
 "nbformat_minor": 5
}
