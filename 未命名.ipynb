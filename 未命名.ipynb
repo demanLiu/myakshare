{
 "cells": [
  {
   "cell_type": "code",
   "execution_count": null,
   "id": "8538886c",
   "metadata": {},
   "outputs": [],
   "source": [
    "import calendar\n",
    "import datetime\n",
    "from datetime import timedelta\n",
    "startDate = datetime.strptime(\"20220723\", \"%Y%m%d\")\n",
    "\n",
    "date = startDate + timedelta(days=1)\n",
    "year= currentdate.year\n",
    "month = currentdate.month\n",
    "day = currentdate.day\n",
    "\n",
    "#系统默认：星期一作为一周的第一天（即：0），星期日作为一周的最后一天（即：6）\n",
    "print(calendar.weekday(year,month,day))\n",
    "currentday =calendar.weekday(year,month,day)\n"
   ]
  },
  {
   "cell_type": "code",
   "execution_count": null,
   "id": "9dec5888",
   "metadata": {},
   "outputs": [],
   "source": []
  },
  {
   "cell_type": "code",
   "execution_count": null,
   "id": "afa0fcb1",
   "metadata": {},
   "outputs": [],
   "source": []
  },
  {
   "cell_type": "code",
   "execution_count": null,
   "id": "21710517",
   "metadata": {},
   "outputs": [],
   "source": [
    "run erfpipe.py\n"
   ]
  }
 ],
 "metadata": {
  "kernelspec": {
   "display_name": "Python 3.10.5 64-bit",
   "language": "python",
   "name": "python3"
  },
  "language_info": {
   "codemirror_mode": {
    "name": "ipython",
    "version": 3
   },
   "file_extension": ".py",
   "mimetype": "text/x-python",
   "name": "python",
   "nbconvert_exporter": "python",
   "pygments_lexer": "ipython3",
   "version": "3.10.5"
  },
  "vscode": {
   "interpreter": {
    "hash": "e7370f93d1d0cde622a1f8e1c04877d8463912d04d973331ad4851f04de6915a"
   }
  }
 },
 "nbformat": 4,
 "nbformat_minor": 5
}
