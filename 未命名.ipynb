{
 "cells": [
  {
   "cell_type": "code",
   "execution_count": 1,
   "id": "4d5fd3ac",
   "metadata": {},
   "outputs": [
    {
     "ename": "TypeError",
     "evalue": "'DataFrame' object is not callable",
     "output_type": "error",
     "traceback": [
      "\u001b[0;31m---------------------------------------------------------------------------\u001b[0m",
      "\u001b[0;31mTypeError\u001b[0m                                 Traceback (most recent call last)",
      "\u001b[1;32m/home/liuhuan/WorkSpace/money/akshare/未命名.ipynb Cell 1'\u001b[0m in \u001b[0;36m<cell line: 4>\u001b[0;34m()\u001b[0m\n\u001b[1;32m      <a href='vscode-notebook-cell:/home/liuhuan/WorkSpace/money/akshare/%E6%9C%AA%E5%91%BD%E5%90%8D.ipynb#ch0000000?line=1'>2</a>\u001b[0m gdp \u001b[39m=\u001b[39m ak\u001b[39m.\u001b[39mmacro_china_gdp()\n\u001b[1;32m      <a href='vscode-notebook-cell:/home/liuhuan/WorkSpace/money/akshare/%E6%9C%AA%E5%91%BD%E5%90%8D.ipynb#ch0000000?line=2'>3</a>\u001b[0m addData \u001b[39m=\u001b[39m gdp[gdp[\u001b[39m\"\u001b[39m\u001b[39m季度\u001b[39m\u001b[39m\"\u001b[39m]\u001b[39m>\u001b[39m\u001b[39m=\u001b[39m\u001b[39m\"\u001b[39m\u001b[39m2021-06-01\u001b[39m\u001b[39m\"\u001b[39m]\n\u001b[0;32m----> <a href='vscode-notebook-cell:/home/liuhuan/WorkSpace/money/akshare/%E6%9C%AA%E5%91%BD%E5%90%8D.ipynb#ch0000000?line=3'>4</a>\u001b[0m \u001b[39mprint\u001b[39m(addData(gdp))\n",
      "\u001b[0;31mTypeError\u001b[0m: 'DataFrame' object is not callable"
     ]
    }
   ],
   "source": [
    "import akshare as ak\n",
    "gdp = ak.macro_china_gdp()\n",
    "addData = gdp[gdp[\"季度\"]>=\"2021-06-01\"]\n",
    "print(addData[gdp])"
   ]
  },
  {
   "cell_type": "code",
   "execution_count": null,
   "id": "8538886c",
   "metadata": {},
   "outputs": [],
   "source": []
  },
  {
   "cell_type": "code",
   "execution_count": null,
   "id": "9dec5888",
   "metadata": {},
   "outputs": [],
   "source": []
  },
  {
   "cell_type": "code",
   "execution_count": null,
   "id": "afa0fcb1",
   "metadata": {},
   "outputs": [],
   "source": []
  },
  {
   "cell_type": "code",
   "execution_count": null,
   "id": "21710517",
   "metadata": {},
   "outputs": [],
   "source": [
    "run erfpipe.py\n"
   ]
  }
 ],
 "metadata": {
  "kernelspec": {
   "display_name": "Python 3.10.5 64-bit",
   "language": "python",
   "name": "python3"
  },
  "language_info": {
   "codemirror_mode": {
    "name": "ipython",
    "version": 3
   },
   "file_extension": ".py",
   "mimetype": "text/x-python",
   "name": "python",
   "nbconvert_exporter": "python",
   "pygments_lexer": "ipython3",
   "version": "3.10.5"
  },
  "vscode": {
   "interpreter": {
    "hash": "e7370f93d1d0cde622a1f8e1c04877d8463912d04d973331ad4851f04de6915a"
   }
  }
 },
 "nbformat": 4,
 "nbformat_minor": 5
}
